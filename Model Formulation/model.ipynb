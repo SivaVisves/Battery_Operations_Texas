{
 "cells": [
  {
   "cell_type": "code",
   "execution_count": 1,
   "metadata": {},
   "outputs": [],
   "source": [
    "using JuMP, Gurobi, DataFrames, CSV, Distributions, Plots"
   ]
  },
  {
   "cell_type": "code",
   "execution_count": null,
   "metadata": {},
   "outputs": [],
   "source": [
    "#load summer_months\n",
    "#summer_months = CSV.read(\"summer_months_new.csv\", DataFrame);"
   ]
  },
  {
   "cell_type": "code",
   "execution_count": null,
   "metadata": {},
   "outputs": [],
   "source": [
    "#pick 100 sample days from summer_months\n",
    "#sample_days = sample(1:244, 100, replace=false);"
   ]
  },
  {
   "cell_type": "code",
   "execution_count": null,
   "metadata": {},
   "outputs": [],
   "source": [
    "# filter the columns in summer_months from sample_days\n",
    "#sample_days = summer_months[sample_days, :];"
   ]
  },
  {
   "cell_type": "code",
   "execution_count": null,
   "metadata": {},
   "outputs": [],
   "source": [
    "#select!(sample_days, Not(:Date));"
   ]
  },
  {
   "cell_type": "code",
   "execution_count": null,
   "metadata": {},
   "outputs": [],
   "source": [
    "#select!(sample_days, Not(:Index))"
   ]
  },
  {
   "cell_type": "code",
   "execution_count": null,
   "metadata": {},
   "outputs": [],
   "source": [
    "#save sample_days to csv\n",
    "#CSV.write(\"sample_days_new.csv\", sample_days);"
   ]
  },
  {
   "cell_type": "code",
   "execution_count": 2,
   "metadata": {},
   "outputs": [],
   "source": [
    "sample_days = CSV.read(\"sample_days_new.csv\", DataFrame);"
   ]
  },
  {
   "cell_type": "code",
   "execution_count": 12,
   "metadata": {},
   "outputs": [],
   "source": [
    "realtime = CSV.read(\"19_Jun_2019_realtime.csv\", DataFrame);"
   ]
  },
  {
   "cell_type": "code",
   "execution_count": 4,
   "metadata": {},
   "outputs": [
    {
     "data": {
      "text/html": [
       "<div><div style = \"float: left;\"><span>24×2 DataFrame</span></div><div style = \"clear: both;\"></div></div><div class = \"data-frame\" style = \"overflow-x: scroll;\"><table class = \"data-frame\" style = \"margin-bottom: 6px;\"><thead><tr class = \"header\"><th class = \"rowNumber\" style = \"font-weight: bold; text-align: right;\">Row</th><th style = \"text-align: left;\">Hours</th><th style = \"text-align: left;\">LZ_HOUSTON</th></tr><tr class = \"subheader headerLastRow\"><th class = \"rowNumber\" style = \"font-weight: bold; text-align: right;\"></th><th title = \"Int64\" style = \"text-align: left;\">Int64</th><th title = \"Float64\" style = \"text-align: left;\">Float64</th></tr></thead><tbody><tr><td class = \"rowNumber\" style = \"font-weight: bold; text-align: right;\">1</td><td style = \"text-align: right;\">0</td><td style = \"text-align: right;\">16.68</td></tr><tr><td class = \"rowNumber\" style = \"font-weight: bold; text-align: right;\">2</td><td style = \"text-align: right;\">1</td><td style = \"text-align: right;\">15.21</td></tr><tr><td class = \"rowNumber\" style = \"font-weight: bold; text-align: right;\">3</td><td style = \"text-align: right;\">2</td><td style = \"text-align: right;\">15.22</td></tr><tr><td class = \"rowNumber\" style = \"font-weight: bold; text-align: right;\">4</td><td style = \"text-align: right;\">3</td><td style = \"text-align: right;\">14.44</td></tr><tr><td class = \"rowNumber\" style = \"font-weight: bold; text-align: right;\">5</td><td style = \"text-align: right;\">4</td><td style = \"text-align: right;\">14.46</td></tr><tr><td class = \"rowNumber\" style = \"font-weight: bold; text-align: right;\">6</td><td style = \"text-align: right;\">5</td><td style = \"text-align: right;\">14.05</td></tr><tr><td class = \"rowNumber\" style = \"font-weight: bold; text-align: right;\">7</td><td style = \"text-align: right;\">6</td><td style = \"text-align: right;\">16.21</td></tr><tr><td class = \"rowNumber\" style = \"font-weight: bold; text-align: right;\">8</td><td style = \"text-align: right;\">7</td><td style = \"text-align: right;\">16.93</td></tr><tr><td class = \"rowNumber\" style = \"font-weight: bold; text-align: right;\">9</td><td style = \"text-align: right;\">8</td><td style = \"text-align: right;\">19.37</td></tr><tr><td class = \"rowNumber\" style = \"font-weight: bold; text-align: right;\">10</td><td style = \"text-align: right;\">9</td><td style = \"text-align: right;\">21.6</td></tr><tr><td class = \"rowNumber\" style = \"font-weight: bold; text-align: right;\">11</td><td style = \"text-align: right;\">10</td><td style = \"text-align: right;\">25.94</td></tr><tr><td class = \"rowNumber\" style = \"font-weight: bold; text-align: right;\">12</td><td style = \"text-align: right;\">11</td><td style = \"text-align: right;\">33.42</td></tr><tr><td class = \"rowNumber\" style = \"font-weight: bold; text-align: right;\">13</td><td style = \"text-align: right;\">12</td><td style = \"text-align: right;\">41.45</td></tr><tr><td class = \"rowNumber\" style = \"font-weight: bold; text-align: right;\">14</td><td style = \"text-align: right;\">13</td><td style = \"text-align: right;\">66.85</td></tr><tr><td class = \"rowNumber\" style = \"font-weight: bold; text-align: right;\">15</td><td style = \"text-align: right;\">14</td><td style = \"text-align: right;\">67.51</td></tr><tr><td class = \"rowNumber\" style = \"font-weight: bold; text-align: right;\">16</td><td style = \"text-align: right;\">15</td><td style = \"text-align: right;\">96.25</td></tr><tr><td class = \"rowNumber\" style = \"font-weight: bold; text-align: right;\">17</td><td style = \"text-align: right;\">16</td><td style = \"text-align: right;\">98.2</td></tr><tr><td class = \"rowNumber\" style = \"font-weight: bold; text-align: right;\">18</td><td style = \"text-align: right;\">17</td><td style = \"text-align: right;\">71.09</td></tr><tr><td class = \"rowNumber\" style = \"font-weight: bold; text-align: right;\">19</td><td style = \"text-align: right;\">18</td><td style = \"text-align: right;\">47.63</td></tr><tr><td class = \"rowNumber\" style = \"font-weight: bold; text-align: right;\">20</td><td style = \"text-align: right;\">19</td><td style = \"text-align: right;\">37.52</td></tr><tr><td class = \"rowNumber\" style = \"font-weight: bold; text-align: right;\">21</td><td style = \"text-align: right;\">20</td><td style = \"text-align: right;\">32.65</td></tr><tr><td class = \"rowNumber\" style = \"font-weight: bold; text-align: right;\">22</td><td style = \"text-align: right;\">21</td><td style = \"text-align: right;\">27.34</td></tr><tr><td class = \"rowNumber\" style = \"font-weight: bold; text-align: right;\">23</td><td style = \"text-align: right;\">22</td><td style = \"text-align: right;\">25.23</td></tr><tr><td class = \"rowNumber\" style = \"font-weight: bold; text-align: right;\">24</td><td style = \"text-align: right;\">23</td><td style = \"text-align: right;\">21.72</td></tr></tbody></table></div>"
      ],
      "text/latex": [
       "\\begin{tabular}{r|cc}\n",
       "\t& Hours & LZ\\_HOUSTON\\\\\n",
       "\t\\hline\n",
       "\t& Int64 & Float64\\\\\n",
       "\t\\hline\n",
       "\t1 & 0 & 16.68 \\\\\n",
       "\t2 & 1 & 15.21 \\\\\n",
       "\t3 & 2 & 15.22 \\\\\n",
       "\t4 & 3 & 14.44 \\\\\n",
       "\t5 & 4 & 14.46 \\\\\n",
       "\t6 & 5 & 14.05 \\\\\n",
       "\t7 & 6 & 16.21 \\\\\n",
       "\t8 & 7 & 16.93 \\\\\n",
       "\t9 & 8 & 19.37 \\\\\n",
       "\t10 & 9 & 21.6 \\\\\n",
       "\t11 & 10 & 25.94 \\\\\n",
       "\t12 & 11 & 33.42 \\\\\n",
       "\t13 & 12 & 41.45 \\\\\n",
       "\t14 & 13 & 66.85 \\\\\n",
       "\t15 & 14 & 67.51 \\\\\n",
       "\t16 & 15 & 96.25 \\\\\n",
       "\t17 & 16 & 98.2 \\\\\n",
       "\t18 & 17 & 71.09 \\\\\n",
       "\t19 & 18 & 47.63 \\\\\n",
       "\t20 & 19 & 37.52 \\\\\n",
       "\t21 & 20 & 32.65 \\\\\n",
       "\t22 & 21 & 27.34 \\\\\n",
       "\t23 & 22 & 25.23 \\\\\n",
       "\t24 & 23 & 21.72 \\\\\n",
       "\\end{tabular}\n"
      ],
      "text/plain": [
       "\u001b[1m24×2 DataFrame\u001b[0m\n",
       "\u001b[1m Row \u001b[0m│\u001b[1m Hours \u001b[0m\u001b[1m LZ_HOUSTON \u001b[0m\n",
       "     │\u001b[90m Int64 \u001b[0m\u001b[90m Float64    \u001b[0m\n",
       "─────┼───────────────────\n",
       "   1 │     0       16.68\n",
       "   2 │     1       15.21\n",
       "   3 │     2       15.22\n",
       "   4 │     3       14.44\n",
       "   5 │     4       14.46\n",
       "   6 │     5       14.05\n",
       "   7 │     6       16.21\n",
       "   8 │     7       16.93\n",
       "  ⋮  │   ⋮        ⋮\n",
       "  18 │    17       71.09\n",
       "  19 │    18       47.63\n",
       "  20 │    19       37.52\n",
       "  21 │    20       32.65\n",
       "  22 │    21       27.34\n",
       "  23 │    22       25.23\n",
       "  24 │    23       21.72\n",
       "\u001b[36m           9 rows omitted\u001b[0m"
      ]
     },
     "metadata": {},
     "output_type": "display_data"
    }
   ],
   "source": [
    "# read dayahead prices\n",
    "dayahead = CSV.read(\"19_Jun_2019_dayahead.csv\", DataFrame); # for 19th June 2019\n",
    "#dayahead = CSV.read(\"30_July_2019_dayahead.csv\", DataFrame); # for 30th July 2019"
   ]
  },
  {
   "cell_type": "code",
   "execution_count": 5,
   "metadata": {},
   "outputs": [],
   "source": [
    "dayaheadprices = dayahead.LZ_HOUSTON;"
   ]
  },
  {
   "cell_type": "code",
   "execution_count": 6,
   "metadata": {},
   "outputs": [],
   "source": [
    "samplematrix = Matrix(sample_days);"
   ]
  },
  {
   "cell_type": "code",
   "execution_count": 7,
   "metadata": {},
   "outputs": [],
   "source": [
    "# add dayaheadprices to samplematrix for each row\n",
    "for i in 1:size(samplematrix, 1)\n",
    "    samplematrix[i, :] = samplematrix[i,:] .+ dayaheadprices\n",
    "end"
   ]
  },
  {
   "cell_type": "code",
   "execution_count": 8,
   "metadata": {},
   "outputs": [],
   "source": [
    "for i in 1:size(samplematrix, 1)\n",
    "    for j in 1:size(samplematrix, 2)\n",
    "        if samplematrix[i, j] < -251\n",
    "            samplematrix[i, j] = samplematrix[i, j] * -1\n",
    "        end\n",
    "    end\n",
    "end"
   ]
  },
  {
   "cell_type": "code",
   "execution_count": 9,
   "metadata": {},
   "outputs": [
    {
     "data": {
      "text/plain": [
       "(100, 24)"
      ]
     },
     "metadata": {},
     "output_type": "display_data"
    }
   ],
   "source": [
    "size(samplematrix)"
   ]
  },
  {
   "cell_type": "code",
   "execution_count": 10,
   "metadata": {},
   "outputs": [
    {
     "data": {
      "text/plain": [
       "1599.8999999999999"
      ]
     },
     "metadata": {},
     "output_type": "display_data"
    }
   ],
   "source": [
    "maximum(samplematrix)"
   ]
  },
  {
   "cell_type": "code",
   "execution_count": 11,
   "metadata": {},
   "outputs": [],
   "source": [
    "samplematrix = round.(samplematrix, digits=2);"
   ]
  },
  {
   "cell_type": "code",
   "execution_count": 13,
   "metadata": {},
   "outputs": [
    {
     "data": {
      "text/plain": [
       "0.3"
      ]
     },
     "metadata": {},
     "output_type": "display_data"
    }
   ],
   "source": [
    "using JuMP, Gurobi, DataFrames\n",
    "\n",
    "function optimize_battery_operations_cvar_ver3(prices::Matrix, battery_capacity::Float64, max_power::Float64, charging_efficiency::Float64, discharging_efficiency::Float64, α::Float64, β::Float64)\n",
    "    # Number of time periods (assuming 24-hour price scenarios)\n",
    "    T = size(prices, 2)\n",
    "    num_scenarios = size(prices, 1)\n",
    "\n",
    "    # Create DataFrames to store the results\n",
    "    results = DataFrame(scenario = Int[], hour = Int[], price = Float64[], soc = Float64[], charge = Float64[], discharge = Float64[])\n",
    "    objective_values = DataFrame(scenario = Int[], profit = Float64[])\n",
    "\n",
    "    # Initialize the model with the Gurobi solver\n",
    "    model = Model(Gurobi.Optimizer)\n",
    "\n",
    "    # Decision variables\n",
    "    @variable(model, 0 <= soc[1:T] <= battery_capacity)  # State of charge\n",
    "    @variable(model, 0 <= charge[1:T] <= max_power)  # Charge\n",
    "    @variable(model, 0 <= discharge[1:T] <= max_power)  # Discharge\n",
    "    @variable(model, ζ >=0)\n",
    "    @variable(model, z[1:num_scenarios] >=0)\n",
    "    @variable(model, u[1:T], Bin)\n",
    "\n",
    "    # Objective function: Maximize profit\n",
    "    @objective(model, Max, sum(0.01*sum(prices[s, t] * (discharge[t] - charge[t]) for t in 1:T, s in 1:num_scenarios)) - β * (ζ + (1/(1-α)) * sum(0.01 * z[s] for s in 1:num_scenarios)))\n",
    "\n",
    "    # Constraints\n",
    "    @constraint(model, [s in 1:num_scenarios], soc[1] == 0)  # Initial SOC\n",
    "    @constraint(model, [s in 1:num_scenarios], discharge[1] == 0)  # Prevent discharging at the first time step\n",
    "    for t in 2:T\n",
    "        for s in 1:num_scenarios\n",
    "            @constraint(model, soc[t] == soc[t - 1] + charging_efficiency * charge[t - 1] - (1 / discharging_efficiency) * discharge[t - 1])  # SOC dynamics\n",
    "            @constraint(model, soc[t]>=(discharge[t] - charge[t]))\n",
    "            @constraint(model, z[s] >= sum(prices[s,t]*(discharge[t]-charge[t]))-ζ)\n",
    "            @constraint(model, discharge[t]-max_power*u[t]<=0)\n",
    "            @constraint(model, charge[t]-max_power*(1-u[t])<=0)\n",
    "        end\n",
    "    end\n",
    "\n",
    "    # Solve the optimization problem\n",
    "    optimize!(model)\n",
    "    \n",
    "    #save ζ value\n",
    "    ζ_value = value(ζ)\n",
    "\n",
    "    # Save the results\n",
    "    for s in 1:num_scenarios\n",
    "        for t in 1:T\n",
    "            push!(results, (s, t, prices[s, t], value(soc[t]), value(charge[t]), value(discharge[t])))\n",
    "        end\n",
    "        push!(objective_values, (s, objective_value(model)))\n",
    "    end\n",
    "    return results, objective_values, ζ_value\n",
    "end\n",
    "battery_capacity = 100.0\n",
    "max_power = 30.0\n",
    "charging_efficiency = 0.95\n",
    "discharging_efficiency = 0.95\n",
    "α = 0.95\n",
    "β = 0.3"
   ]
  },
  {
   "cell_type": "code",
   "execution_count": 14,
   "metadata": {},
   "outputs": [
    {
     "name": "stdout",
     "output_type": "stream",
     "text": [
      "Set parameter Username\r\n",
      "Academic license - for non-commercial use only - expires 2024-04-16\r\n",
      "Gurobi Optimizer version 10.0.1 build v10.0.1rc0 (win64)\r\n",
      "\r\n",
      "CPU model: 12th Gen Intel(R) Core(TM) i7-1265U, instruction set [SSE2|AVX|AVX2]\r\n",
      "Thread count: 10 physical cores, 12 logical processors, using up to 12 threads\r\n",
      "\r\n",
      "Optimize a model with 11700 rows, 197 columns and 34700 nonzeros\r\n",
      "Model fingerprint: 0x4628389d\r\n",
      "Variable types: 173 continuous, 24 integer (24 binary)\r\n",
      "Coefficient statistics:\r\n",
      "  Matrix range     [2e-01, 2e+03]\r\n",
      "  Objective range  [6e-02, 1e+02]\r\n",
      "  Bounds range     [3e+01, 1e+02]\r\n",
      "  RHS range        [3e+01, 3e+01]\r\n",
      "Found heuristic solution: objective -0.0000000\r\n",
      "Presolve removed 9333 rows and 6 columns\r\n",
      "Presolve time: 0.02s\r\n",
      "Presolved: 2367 rows, 191 columns, 9278 nonzeros\r\n",
      "Variable types: 169 continuous, 22 integer (22 binary)\r\n",
      "\r\n",
      "Root relaxation: objective 2.104161e+03, 44 iterations, 0.01 seconds (0.01 work units)\r\n",
      "\r\n",
      "    Nodes    |    Current Node    |     Objective Bounds      |     Work\r\n",
      " Expl Unexpl |  Obj  Depth IntInf | Incumbent    BestBd   Gap | It/Node Time\r\n",
      "\r\n",
      "*    0     0               0    2104.1611102 2104.16111  0.00%     -    0s\r\n",
      "\r\n",
      "Explored 1 nodes (44 simplex iterations) in 0.04 seconds (0.05 work units)\r\n",
      "Thread count was 12 (of 12 available processors)\r\n",
      "\r\n",
      "Solution count 2: 2104.16 -0 \r\n",
      "\r\n",
      "Optimal solution found (tolerance 1.00e-04)\r\n",
      "Best objective 2.104161110223e+03, best bound 2.104161110223e+03, gap 0.0000%\r\n",
      "\r\n",
      "User-callback calls 265, time in user-callback 0.01 sec\r\n"
     ]
    },
    {
     "data": {
      "text/plain": [
       "(\u001b[1m2400×6 DataFrame\u001b[0m\n",
       "\u001b[1m  Row \u001b[0m│\u001b[1m scenario \u001b[0m\u001b[1m hour  \u001b[0m\u001b[1m price   \u001b[0m\u001b[1m soc      \u001b[0m\u001b[1m charge  \u001b[0m\u001b[1m discharge \u001b[0m\n",
       "      │\u001b[90m Int64    \u001b[0m\u001b[90m Int64 \u001b[0m\u001b[90m Float64 \u001b[0m\u001b[90m Float64  \u001b[0m\u001b[90m Float64 \u001b[0m\u001b[90m Float64   \u001b[0m\n",
       "──────┼────────────────────────────────────────────────────────\n",
       "    1 │        1      1    16.18    0.0      0.0       0.0\n",
       "    2 │        1      2    15.45    0.0      0.0       0.0\n",
       "    3 │        1      3    16.21    0.0      0.0       0.0\n",
       "    4 │        1      4    15.64    0.0     15.2632    0.0\n",
       "    5 │        1      5    15.01   14.5     30.0       0.0\n",
       "    6 │        1      6    13.9    43.0     30.0       0.0\n",
       "    7 │        1      7    15.98   71.5     30.0       0.0\n",
       "    8 │        1      8    17.35  100.0      0.0       0.0\n",
       "  ⋮   │    ⋮        ⋮       ⋮        ⋮         ⋮         ⋮\n",
       " 2394 │      100     18    74.94   45.4819   0.0       6.10198\n",
       " 2395 │      100     19    66.53   39.0587   0.0       5.54142\n",
       " 2396 │      100     20    51.24   33.2257   0.0      13.2566\n",
       " 2397 │      100     21   107.8    19.2714   0.0      18.3078\n",
       " 2398 │      100     22    30.73    0.0      0.0       0.0\n",
       " 2399 │      100     23    32.04    0.0      0.0       0.0\n",
       " 2400 │      100     24    26.15    0.0      0.0       0.0\n",
       "\u001b[36m                                              2385 rows omitted\u001b[0m, \u001b[1m100×2 DataFrame\u001b[0m\n",
       "\u001b[1m Row \u001b[0m│\u001b[1m scenario \u001b[0m\u001b[1m profit  \u001b[0m\n",
       "     │\u001b[90m Int64    \u001b[0m\u001b[90m Float64 \u001b[0m\n",
       "─────┼───────────────────\n",
       "   1 │        1  2104.16\n",
       "   2 │        2  2104.16\n",
       "   3 │        3  2104.16\n",
       "   4 │        4  2104.16\n",
       "   5 │        5  2104.16\n",
       "   6 │        6  2104.16\n",
       "   7 │        7  2104.16\n",
       "   8 │        8  2104.16\n",
       "  ⋮  │    ⋮         ⋮\n",
       "  94 │       94  2104.16\n",
       "  95 │       95  2104.16\n",
       "  96 │       96  2104.16\n",
       "  97 │       97  2104.16\n",
       "  98 │       98  2104.16\n",
       "  99 │       99  2104.16\n",
       " 100 │      100  2104.16\n",
       "\u001b[36m          85 rows omitted\u001b[0m, 5957.9084752475865)"
      ]
     },
     "metadata": {},
     "output_type": "display_data"
    }
   ],
   "source": [
    "results_df, objective_values_df, zetaval = optimize_battery_operations_cvar_ver3(samplematrix, battery_capacity, max_power, charging_efficiency, discharging_efficiency, α, β)"
   ]
  },
  {
   "cell_type": "code",
   "execution_count": 15,
   "metadata": {},
   "outputs": [
    {
     "data": {
      "text/plain": [
       "5957.9084752475865"
      ]
     },
     "metadata": {},
     "output_type": "display_data"
    }
   ],
   "source": [
    "zetaval"
   ]
  },
  {
   "cell_type": "code",
   "execution_count": 16,
   "metadata": {},
   "outputs": [
    {
     "data": {
      "text/plain": [
       "3944.855450063965"
      ]
     },
     "metadata": {},
     "output_type": "display_data"
    }
   ],
   "source": [
    "profit = sum(dayahead.LZ_HOUSTON.*(results_df[results_df.scenario .== 1, :].discharge.-results_df[results_df.scenario .== 1, :].charge))"
   ]
  },
  {
   "cell_type": "code",
   "execution_count": 21,
   "metadata": {},
   "outputs": [
    {
     "data": {
      "text/plain": [
       "\"Results/results_df_cvar_0.3_reformulated_ver3.csv\""
      ]
     },
     "metadata": {},
     "output_type": "display_data"
    }
   ],
   "source": [
    "#save results_df to csv\n",
    "CSV.write(\"Results/results_df_cvar_0.3_reformulated_ver3.csv\", results_df)"
   ]
  },
  {
   "cell_type": "code",
   "execution_count": null,
   "metadata": {},
   "outputs": [],
   "source": []
  }
 ],
 "metadata": {
  "kernelspec": {
   "display_name": "Julia 1.8.5",
   "language": "julia",
   "name": "julia-1.8"
  },
  "language_info": {
   "file_extension": ".jl",
   "mimetype": "application/julia",
   "name": "julia",
   "version": "1.8.5"
  },
  "orig_nbformat": 4
 },
 "nbformat": 4,
 "nbformat_minor": 2
}

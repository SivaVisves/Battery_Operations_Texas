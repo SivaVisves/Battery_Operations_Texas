{
 "cells": [
  {
   "attachments": {},
   "cell_type": "markdown",
   "metadata": {},
   "source": [
    "## Load Packages"
   ]
  },
  {
   "cell_type": "code",
   "execution_count": null,
   "metadata": {},
   "outputs": [],
   "source": [
    "using JuMP, Gurobi, DataFrames, CSV"
   ]
  },
  {
   "attachments": {},
   "cell_type": "markdown",
   "metadata": {},
   "source": [
    "## Loading Scenario Data, Day Ahead and Real Time price Scenarios"
   ]
  },
  {
   "cell_type": "code",
   "execution_count": null,
   "metadata": {},
   "outputs": [],
   "source": [
    "#load summer_months\n",
    "#summer_months = CSV.read(\"summer_months_new.csv\", DataFrame);"
   ]
  },
  {
   "cell_type": "code",
   "execution_count": null,
   "metadata": {},
   "outputs": [],
   "source": [
    "#pick 100 sample days from summer_months\n",
    "#sample_days = sample(1:244, 100, replace=false);"
   ]
  },
  {
   "cell_type": "code",
   "execution_count": null,
   "metadata": {},
   "outputs": [],
   "source": [
    "# filter the columns in summer_months from sample_days\n",
    "#sample_days = summer_months[sample_days, :];"
   ]
  },
  {
   "cell_type": "code",
   "execution_count": null,
   "metadata": {},
   "outputs": [],
   "source": [
    "#select!(sample_days, Not(:Date));"
   ]
  },
  {
   "cell_type": "code",
   "execution_count": null,
   "metadata": {},
   "outputs": [],
   "source": [
    "#select!(sample_days, Not(:Index))"
   ]
  },
  {
   "cell_type": "code",
   "execution_count": null,
   "metadata": {},
   "outputs": [],
   "source": [
    "#save sample_days to csv\n",
    "#CSV.write(\"sample_days_new.csv\", sample_days);"
   ]
  },
  {
   "cell_type": "code",
   "execution_count": null,
   "metadata": {},
   "outputs": [],
   "source": [
    "sample_days = CSV.read(\"sample_days_new.csv\", DataFrame);"
   ]
  },
  {
   "cell_type": "code",
   "execution_count": null,
   "metadata": {},
   "outputs": [],
   "source": [
    "realtime = CSV.read(\"19_Jun_2019_realtime.csv\", DataFrame);"
   ]
  },
  {
   "cell_type": "code",
   "execution_count": null,
   "metadata": {},
   "outputs": [],
   "source": [
    "# read dayahead prices\n",
    "dayahead = CSV.read(\"19_Jun_2019_dayahead.csv\", DataFrame); # for 19th June 2019\n",
    "#dayahead = CSV.read(\"30_July_2019_dayahead.csv\", DataFrame); # for 30th July 2019"
   ]
  },
  {
   "cell_type": "code",
   "execution_count": null,
   "metadata": {},
   "outputs": [],
   "source": [
    "dayaheadprices = dayahead.LZ_HOUSTON;"
   ]
  },
  {
   "cell_type": "code",
   "execution_count": null,
   "metadata": {},
   "outputs": [],
   "source": [
    "samplematrix = Matrix(sample_days);"
   ]
  },
  {
   "cell_type": "code",
   "execution_count": null,
   "metadata": {},
   "outputs": [],
   "source": [
    "# add dayaheadprices to samplematrix for each row\n",
    "for i in 1:size(samplematrix, 1)\n",
    "    samplematrix[i, :] = samplematrix[i,:] .+ dayaheadprices\n",
    "end"
   ]
  },
  {
   "cell_type": "code",
   "execution_count": null,
   "metadata": {},
   "outputs": [],
   "source": [
    "for i in 1:size(samplematrix, 1)\n",
    "    for j in 1:size(samplematrix, 2)\n",
    "        if samplematrix[i, j] < -251\n",
    "            samplematrix[i, j] = samplematrix[i, j] * -1\n",
    "        end\n",
    "    end\n",
    "end"
   ]
  },
  {
   "cell_type": "code",
   "execution_count": null,
   "metadata": {},
   "outputs": [],
   "source": [
    "size(samplematrix)"
   ]
  },
  {
   "cell_type": "code",
   "execution_count": null,
   "metadata": {},
   "outputs": [],
   "source": [
    "maximum(samplematrix)"
   ]
  },
  {
   "cell_type": "code",
   "execution_count": null,
   "metadata": {},
   "outputs": [],
   "source": [
    "samplematrix = round.(samplematrix, digits=2);"
   ]
  },
  {
   "attachments": {},
   "cell_type": "markdown",
   "metadata": {},
   "source": [
    "## CVAR Battery Operation Model\n"
   ]
  },
  {
   "cell_type": "code",
   "execution_count": null,
   "metadata": {},
   "outputs": [],
   "source": [
    "using JuMP, Gurobi, DataFrames\n",
    "\n",
    "\"\"\"\n",
    "optimize_battery_operations_cvar_ver3(prices::Matrix, battery_capacity::Float64, max_power::Float64,\n",
    "charging_efficiency::Float64, discharging_efficiency::Float64, α::Float64, β::Float64)\n",
    "\n",
    "Optimizes battery operations considering risk averseness using Conditional Value at Risk (CVaR).\n",
    "\n",
    "# Arguments\n",
    "- `prices::Matrix`: Matrix of electricity prices over time (num_scenarios x T)\n",
    "- `battery_capacity::Float64`: Maximum capacity of the battery in kilowatt-hours (kWh)\n",
    "- `max_power::Float64`: Maximum charging or discharging power of the battery in kilowatts (kW)\n",
    "- `charging_efficiency::Float64`: Efficiency of the battery when charging (between 0 and 1)\n",
    "- `discharging_efficiency::Float64`: Efficiency of the battery when discharging (between 0 and 1)\n",
    "- `α::Float64`: Confidence level (between 0 and 1) for calculating CVaR\n",
    "- `β::Float64`: Weighting factor for the risk term in the objective function\n",
    "\n",
    "# Returns\n",
    "- `results`: DataFrame containing optimization results\n",
    "- `objective_values`: DataFrame containing objective function values (profits)\n",
    "- `ζ_value`: Value of ζ, representing the CVaR\n",
    "\"\"\"\n",
    "function optimize_battery_operations_cvar_ver3(prices::Matrix, battery_capacity::Float64, max_power::Float64,\n",
    "    charging_efficiency::Float64, discharging_efficiency::Float64, α::Float64, β::Float64)\n",
    "    \n",
    "    # Number of time periods (assuming 24-hour price scenarios)\n",
    "    T = size(prices, 2)\n",
    "    num_scenarios = size(prices, 1)\n",
    "\n",
    "    # Create DataFrames to store the results\n",
    "    results = DataFrame(scenario = Int[], hour = Int[], price = Float64[], soc = Float64[], charge = Float64[], discharge = Float64[])\n",
    "    objective_values = DataFrame(scenario = Int[], profit = Float64[])\n",
    "\n",
    "    # Initialize the model with the Gurobi solver\n",
    "    model = Model(Gurobi.Optimizer)\n",
    "\n",
    "    # Decision variables\n",
    "    @variable(model, 0 <= soc[1:T] <= battery_capacity)  # State of charge\n",
    "    @variable(model, 0 <= charge[1:T] <= max_power)  # Charge\n",
    "    @variable(model, 0 <= discharge[1:T] <= max_power)  # Discharge\n",
    "    @variable(model, ζ >= 0)  # CVaR auxiliary variable\n",
    "    @variable(model, z[1:num_scenarios] >= 0)  # CVaR term\n",
    "    @variable(model, u[1:T], Bin)  # Binary variable for controlling battery power\n",
    "\n",
    "    # Objective function: Maximize profit\n",
    "    @objective(model, Max, sum(0.01 * sum(prices[s, t] * (discharge[t] - charge[t]) for t in 1:T, s in 1:num_scenarios)) -\n",
    "        β * (ζ + (1 / (1 - α)) * sum(0.01 * z[s] for s in 1:num_scenarios)))\n",
    "\n",
    "    # Constraints\n",
    "    @constraint(model, [s in 1:num_scenarios], soc[1] == 0)  # Initial SOC\n",
    "    @constraint(model, [s in 1:num_scenarios], discharge[1] == 0)  # Prevent discharging at the first time step\n",
    "    for t in 2:T\n",
    "        for s in 1:num_scenarios\n",
    "            # SOC dynamics\n",
    "            @constraint(model, soc[t] == soc[t - 1] + charging_efficiency * charge[t - 1] -\n",
    "                (1 / discharging_efficiency) * discharge[t - 1])\n",
    "            \n",
    "            # SOC should be greater than or equal to (discharge - charge)\n",
    "            @constraint(model, soc[t] >= (discharge[t] - charge[t]))\n",
    "            \n",
    "            # CVaR constraints\n",
    "            @constraint(model, z[s] >= sum(prices[s, t] * (discharge[t] - charge[t])) - ζ)\n",
    "            \n",
    "            # Power limits\n",
    "            @constraint(model, discharge[t] - max_power * u[t] <= 0)\n",
    "            @constraint(model, charge[t] - max_power * (1 - u[t]) <= 0)\n",
    "        end\n",
    "    end\n",
    "\n",
    "    # Solve the optimization problem\n",
    "    optimize!(model)\n",
    "    \n",
    "    # Save ζ value\n",
    "    ζ_value = value(ζ)\n",
    "\n",
    "    # Save the results\n",
    "    for s in 1:num_scenarios\n",
    "        for t in 1:T\n",
    "            push!(results, (s, t, prices[s, t], value(soc[t]), value(charge[t]), value(discharge[t])))\n",
    "        end\n",
    "        push!(objective_values, (s, objective_value(model)))\n",
    "    end\n",
    "    \n",
    "    return results, objective_values, ζ_value\n",
    "end\n",
    "\n",
    "\n"
   ]
  },
  {
   "cell_type": "code",
   "execution_count": null,
   "metadata": {},
   "outputs": [],
   "source": [
    "# Input parameters\n",
    "battery_capacity = 100.0\n",
    "max_power = 30.0\n",
    "charging_efficiency = 0.95\n",
    "discharging_efficiency = 0.95\n",
    "α = 0.95\n",
    "β = 0.2"
   ]
  },
  {
   "cell_type": "code",
   "execution_count": null,
   "metadata": {},
   "outputs": [],
   "source": [
    "results_df, objective_values_df, zetaval = optimize_battery_operations_cvar_ver3(samplematrix, battery_capacity, max_power, charging_efficiency, discharging_efficiency, α, β)"
   ]
  },
  {
   "cell_type": "code",
   "execution_count": null,
   "metadata": {},
   "outputs": [],
   "source": [
    "zetaval"
   ]
  },
  {
   "cell_type": "code",
   "execution_count": null,
   "metadata": {},
   "outputs": [],
   "source": [
    "profit = sum(dayahead.LZ_HOUSTON.*(results_df[results_df.scenario .== 1, :].discharge.-results_df[results_df.scenario .== 1, :].charge))"
   ]
  },
  {
   "cell_type": "code",
   "execution_count": null,
   "metadata": {},
   "outputs": [],
   "source": [
    "#save results_df to csv\n",
    "\n",
    "beta = string(β)\n",
    "CSV.write(\"Results/results_df_cvar_$(beta)_reformulated_ver3.csv\", results_df)"
   ]
  },
  {
   "cell_type": "code",
   "execution_count": null,
   "metadata": {},
   "outputs": [],
   "source": []
  }
 ],
 "metadata": {
  "kernelspec": {
   "display_name": "Julia 1.8.5",
   "language": "julia",
   "name": "julia-1.8"
  },
  "language_info": {
   "file_extension": ".jl",
   "mimetype": "application/julia",
   "name": "julia",
   "version": "1.8.5"
  },
  "orig_nbformat": 4
 },
 "nbformat": 4,
 "nbformat_minor": 2
}
